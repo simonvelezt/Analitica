{
  "nbformat": 4,
  "nbformat_minor": 0,
  "metadata": {
    "colab": {
      "provenance": [],
      "authorship_tag": "ABX9TyMxcC1Aj55fce1iok/jYEHN",
      "include_colab_link": true
    },
    "kernelspec": {
      "name": "python3",
      "display_name": "Python 3"
    },
    "language_info": {
      "name": "python"
    }
  },
  "cells": [
    {
      "cell_type": "markdown",
      "metadata": {
        "id": "view-in-github",
        "colab_type": "text"
      },
      "source": [
        "<a href=\"https://colab.research.google.com/github/simonvelezt/Analitica/blob/main/Reto_1_Simon_Velez_Tamayo.ipynb\" target=\"_parent\"><img src=\"https://colab.research.google.com/assets/colab-badge.svg\" alt=\"Open In Colab\"/></a>"
      ]
    },
    {
      "cell_type": "code",
      "source": [
        "import numpy as np\n",
        "import pandas as pd\n",
        "from sklearn.naive_bayes import GaussianNB\n",
        "from sklearn.metrics import confusion_matrix"
      ],
      "metadata": {
        "id": "eT0FKcat56Uz"
      },
      "execution_count": null,
      "outputs": []
    },
    {
      "cell_type": "code",
      "source": [
        "import numpy as np\n",
        "import pandas as pd\n",
        "from sklearn.naive_bayes import GaussianNB\n",
        "from sklearn.metrics import confusion_matrix\n",
        "from itertools import count\n",
        "\n",
        "nxl='/content/1. BD1_Longitudinal Survey_Int.xlsx'\n",
        "XDB=pd.read_excel(nxl)\n",
        "XDB.dropna(inplace=True)\n",
        "XDB_select = XDB[['Age', 'Mother_Edu', 'FamilySize', 'Self_Esteem', 'Height', 'Weight', 'Income', 'Urban']]\n",
        "XD=np.array(XDB_select)\n",
        "yd=np.array(XDB['Urban'])\n",
        "print(XDB_select)\n",
        "\n",
        "Magnitud = len(XDB)\n",
        "print(\"Magnitud de la base de datos es de: \", Magnitud)\n",
        "\n",
        "XDB_city = np.where(yd==1)[0]\n",
        "len(XDB_city)\n",
        "pct_city=len(XDB_city)/Magnitud*100\n",
        "print(\"porcentage de personas que viven en el area city es de: \", pct_city, \"%\")\n",
        "\n",
        "XDB_outcity = np.where(yd==0)[0]\n",
        "len(XDB_outcity)\n",
        "pct_outcity=len(XDB_outcity)/Magnitud*100\n",
        "print(\"porcentage de personas que viven en el area outcity es de: \", pct_outcity, \"%\")"
      ],
      "metadata": {
        "colab": {
          "base_uri": "https://localhost:8080/"
        },
        "id": "NR5p8Pbf58ib",
        "outputId": "bfcd20db-933d-4b4b-f178-63fcdf9e14ca"
      },
      "execution_count": null,
      "outputs": [
        {
          "output_type": "stream",
          "name": "stdout",
          "text": [
            "       Age  Mother_Edu  FamilySize  Self_Esteem  Height  Weight   Income  \\\n",
            "1       20         5.0           5         16.0    62.0   120.0      0.0   \n",
            "5       19        12.0           4         27.0    64.0   200.0  40000.0   \n",
            "6       15        12.0           3         26.0    65.0   131.0  25000.0   \n",
            "7       21         9.0           3         23.0    65.0   179.0  27400.0   \n",
            "8       16        12.0           6         26.0    66.0   145.0  52000.0   \n",
            "...    ...         ...         ...          ...     ...     ...      ...   \n",
            "12557   20        12.0           5         20.0    60.0   110.0   1000.0   \n",
            "12565   20        12.0           2         24.0    63.0   152.0  38000.0   \n",
            "12647   21        16.0           1         30.0    70.0   180.0  43600.0   \n",
            "12651   21        16.0           1         27.0    73.0   170.0  40000.0   \n",
            "12678   21         8.0           1         19.0    70.0   180.0  17000.0   \n",
            "\n",
            "       Urban  \n",
            "1        1.0  \n",
            "5        1.0  \n",
            "6        1.0  \n",
            "7        1.0  \n",
            "8        1.0  \n",
            "...      ...  \n",
            "12557    1.0  \n",
            "12565    1.0  \n",
            "12647    1.0  \n",
            "12651    1.0  \n",
            "12678    0.0  \n",
            "\n",
            "[5683 rows x 8 columns]\n",
            "Magnitud de la base de datos es de:  5683\n",
            "porcentage de personas que viven en el area city es de:  79.35949322540911 %\n",
            "porcentage de personas que viven en el area outcity es de:  20.640506774590886 %\n"
          ]
        }
      ]
    },
    {
      "cell_type": "code",
      "source": [
        "mnb=GaussianNB()\n",
        "mnb.fit(XD,yd)\n",
        "ydp=mnb.predict(XD)\n",
        "\n",
        "u=mnb.theta_\n",
        "sigma=np.sqrt(mnb.var_)\n",
        "LI=u-sigma\n",
        "LS=u+sigma\n",
        "\n",
        "print(\"media que tiene las variables por categoria:\")\n",
        "print(u)\n",
        "print(\"limite inferior de la variación de las variables por categoría\")\n",
        "print(LI)\n",
        "print(\"limite superior de la variación de las variables por categoría\")\n",
        "print(LS)\n",
        "\n",
        "cm=confusion_matrix(yd,ydp)\n",
        "print(\"La matriz de confusión\")\n",
        "print(cm)"
      ],
      "metadata": {
        "colab": {
          "base_uri": "https://localhost:8080/"
        },
        "id": "7X1DSUgQ6dje",
        "outputId": "43aa868a-caf3-499d-db84-b96e2647c499"
      },
      "execution_count": null,
      "outputs": [
        {
          "output_type": "stream",
          "name": "stdout",
          "text": [
            "media que tiene las variables por categoria:\n",
            "[[1.83810742e+01 1.07612958e+01 4.74168798e+00 2.20272805e+01\n",
            "  6.72148338e+01 1.48857630e+02 3.03672506e+04 0.00000000e+00]\n",
            " [1.83569845e+01 1.11769401e+01 4.68780488e+00 2.26004435e+01\n",
            "  6.69031042e+01 1.44760976e+02 3.34278929e+04 1.00000000e+00]]\n",
            "limite inferior de la variación de las variables por categoría\n",
            "[[ 1.58996876e+01  7.58892579e+00  2.16621834e+00  1.78344685e+01\n",
            "   6.31369799e+01  1.18746964e+02 -1.33465823e+03 -1.11558325e+00]\n",
            " [ 1.58811112e+01  7.79013864e+00  2.24996381e+00  1.84154526e+01\n",
            "   6.26897933e+01  1.14669654e+02 -2.69533531e+03 -1.15583250e-01]]\n",
            "limite superior de la variación de las variables por categoría\n",
            "[[2.08624608e+01 1.39336659e+01 7.31715762e+00 2.62200925e+01\n",
            "  7.12926877e+01 1.78968296e+02 6.20691595e+04 1.11558325e+00]\n",
            " [2.08328577e+01 1.45637416e+01 7.12564594e+00 2.67854344e+01\n",
            "  7.11164151e+01 1.74852297e+02 6.95511211e+04 2.11558325e+00]]\n",
            "La matriz de confusión es\n",
            "[[   3 1170]\n",
            " [   0 4510]]\n"
          ]
        }
      ]
    },
    {
      "cell_type": "code",
      "source": [
        "VN=cm[0,0]\n",
        "FP=cm[0,1]\n",
        "FN=cm[1,0]\n",
        "VP=cm[1,1]\n",
        "\n",
        "Exactitud=(VP+VN)/len(XD)\n",
        "print(\"La Exactitud es\", Exactitud)\n",
        "\n",
        "TE=(FN+FP)/len(XD)\n",
        "print(\"La Tasa de Error es\", TE)\n",
        "\n",
        "Sensibilidad=VP/(VP+FP)\n",
        "print(\"La Sensibilidad es\", Sensibilidad)\n",
        "\n",
        "Especificidad=VN/(VN+FN)\n",
        "print(\"La Especifidad es\", Especificidad)\n",
        "\n",
        "Precision=VP/(VP+FN)\n",
        "print(\"La Precision es\", Precision)\n",
        "\n",
        "PredNeg=VN/(VN+FP)\n",
        "print(\"La Probabilidad de Negativo es\", PredNeg)"
      ],
      "metadata": {
        "colab": {
          "base_uri": "https://localhost:8080/"
        },
        "id": "MTDlqao-6z92",
        "outputId": "4aa3bd27-76f8-443a-ce6c-b9163b04e832"
      },
      "execution_count": null,
      "outputs": [
        {
          "output_type": "stream",
          "name": "stdout",
          "text": [
            "La Exactitud es 0.7941228224529298\n",
            "La Tasa de Error es 0.20587717754707022\n",
            "La Sensibilidad es 0.7940140845070423\n",
            "La Especifidad es 1.0\n",
            "La Precision es 1.0\n",
            "La Probabilidad de Negativo es 0.0025575447570332483\n"
          ]
        }
      ]
    },
    {
      "cell_type": "code",
      "source": [
        "Xun=np.array([[34,9,6,65,135,50000,30,3]])\n",
        "ydun=mnb.predict(Xun)\n",
        "print(ydun)"
      ],
      "metadata": {
        "colab": {
          "base_uri": "https://localhost:8080/"
        },
        "id": "jtfUn0X46_7Z",
        "outputId": "40713119-5dcd-4bcb-bddb-4f1ad8076d89"
      },
      "execution_count": null,
      "outputs": [
        {
          "output_type": "stream",
          "name": "stdout",
          "text": [
            "[0.]\n"
          ]
        }
      ]
    }
  ]
}